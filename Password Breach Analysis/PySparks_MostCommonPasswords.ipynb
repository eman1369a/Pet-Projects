{
  "nbformat": 4,
  "nbformat_minor": 0,
  "metadata": {
    "colab": {
      "provenance": []
    },
    "kernelspec": {
      "name": "python3",
      "display_name": "Python 3"
    },
    "language_info": {
      "name": "python"
    }
  },
  "cells": [
    {
      "cell_type": "markdown",
      "source": [
        "# PySpark Analysis of Most Common Passwords\n",
        "This notebook analyzes a dataset containing leaked passwords using PySpark.\n",
        "The objective is to understand the distribution and characteristics of these passwords."
      ],
      "metadata": {
        "id": "dYbCAyT5Rsr1"
      }
    },
    {
      "cell_type": "markdown",
      "source": [
        "## Environment Setup"
      ],
      "metadata": {
        "id": "48bGSFJqdA3Q"
      }
    },
    {
      "cell_type": "code",
      "source": [
        "!apt-get install openjdk-8-jdk-headless -qq > /dev/null\n",
        "\n",
        "!wget -q https://archive.apache.org/dist/spark/spark-3.0.0/spark-3.0.0-bin-hadoop2.7.tgz\n",
        "!tar xf spark-3.0.0-bin-hadoop2.7.tgz\n",
        "\n",
        "!pip install -q findspark"
      ],
      "metadata": {
        "id": "kVgEdaVhpuPX"
      },
      "execution_count": 2,
      "outputs": []
    },
    {
      "cell_type": "code",
      "source": [
        "import os\n",
        "os.environ[\"JAVA_HOME\"] = \"/usr/lib/jvm/java-8-openjdk-amd64\"\n",
        "os.environ[\"SPARK_HOME\"] = \"/content/spark-3.0.0-bin-hadoop2.7\""
      ],
      "metadata": {
        "id": "yhsOVjDBpxQu"
      },
      "execution_count": 4,
      "outputs": []
    },
    {
      "cell_type": "markdown",
      "source": [
        "## Google Drive Mount"
      ],
      "metadata": {
        "id": "wp2U9-3OdXh0"
      }
    },
    {
      "cell_type": "code",
      "source": [
        "from google.colab import drive\n",
        "drive.mount('/content/drive')"
      ],
      "metadata": {
        "colab": {
          "base_uri": "https://localhost:8080/"
        },
        "id": "waD3s8khqE0y",
        "outputId": "342084c2-f3cd-45e3-c0b4-aba819d249a8"
      },
      "execution_count": 5,
      "outputs": [
        {
          "output_type": "stream",
          "name": "stdout",
          "text": [
            "Drive already mounted at /content/drive; to attempt to forcibly remount, call drive.mount(\"/content/drive\", force_remount=True).\n"
          ]
        }
      ]
    },
    {
      "cell_type": "markdown",
      "source": [
        "## Pyspark Initialization and Data Loading"
      ],
      "metadata": {
        "id": "L1fjg5BGddKY"
      }
    },
    {
      "cell_type": "code",
      "source": [
        "import findspark\n",
        "findspark.init()\n",
        "\n",
        "from pyspark.sql import SparkSession\n",
        "spark = SparkSession.builder.master(\"local[*]\").getOrCreate()"
      ],
      "metadata": {
        "id": "LjLxXLNwpyce"
      },
      "execution_count": 6,
      "outputs": []
    },
    {
      "cell_type": "code",
      "source": [
        "data = spark.read.text(\"/content/drive/MyDrive/Colab Notebooks/breachcompilation.txt\")"
      ],
      "metadata": {
        "id": "IMTz43BMqQSx"
      },
      "execution_count": 8,
      "outputs": []
    },
    {
      "cell_type": "markdown",
      "source": [
        "## Basic Exploratory Data Analysis"
      ],
      "metadata": {
        "id": "w966ukx6dk98"
      }
    },
    {
      "cell_type": "code",
      "source": [
        "from pyspark.sql.functions import col, count\n",
        "\n",
        "password_counts = data.groupBy(\"value\").agg(count(\"value\").alias(\"count\")).orderBy(col(\"count\").desc())"
      ],
      "metadata": {
        "id": "Vy-_-MlaqVID"
      },
      "execution_count": 10,
      "outputs": []
    },
    {
      "cell_type": "markdown",
      "source": [
        "Here is the length of the dataset"
      ],
      "metadata": {
        "id": "gL3-tXNDdz-F"
      }
    },
    {
      "cell_type": "code",
      "source": [
        "num_rows = password_counts.count()\n",
        "print(\"Number of rows in password_counts:\", num_rows)"
      ],
      "metadata": {
        "colab": {
          "base_uri": "https://localhost:8080/"
        },
        "id": "RaZXcFzUIm0O",
        "outputId": "5a4f24bf-71e6-41bf-e1f7-5a547fc223e2"
      },
      "execution_count": 13,
      "outputs": [
        {
          "output_type": "stream",
          "name": "stdout",
          "text": [
            "Number of rows in password_counts: 384153427\n"
          ]
        }
      ]
    },
    {
      "cell_type": "markdown",
      "source": [
        "Top 20 passwords used"
      ],
      "metadata": {
        "id": "5_zqcXzad45y"
      }
    },
    {
      "cell_type": "code",
      "source": [
        "password_counts.show(20)"
      ],
      "metadata": {
        "colab": {
          "base_uri": "https://localhost:8080/"
        },
        "id": "q7QxByD_TTwJ",
        "outputId": "8dd1a7cc-3093-46a7-df95-a1c06bf74cc3"
      },
      "execution_count": 18,
      "outputs": [
        {
          "output_type": "stream",
          "name": "stdout",
          "text": [
            "+----------+-------+\n",
            "|     value|  count|\n",
            "+----------+-------+\n",
            "|    123456|6690567|\n",
            "| 123456789|2286809|\n",
            "|    111111| 983775|\n",
            "|  password| 964657|\n",
            "|    qwerty| 887545|\n",
            "|    abc123| 860278|\n",
            "|  12345678| 844370|\n",
            "| password1| 757901|\n",
            "|   1234567| 744492|\n",
            "|    123123| 679338|\n",
            "|1234567890| 673299|\n",
            "|    000000| 665562|\n",
            "|     12345| 599246|\n",
            "|  iloveyou| 443963|\n",
            "|1q2w3e4r5t| 346500|\n",
            "|      1234| 340034|\n",
            "|   123456a| 312049|\n",
            "|qwertyuiop| 302333|\n",
            "|    monkey| 290794|\n",
            "|    123321| 286281|\n",
            "+----------+-------+\n",
            "only showing top 20 rows\n",
            "\n"
          ]
        }
      ]
    },
    {
      "cell_type": "markdown",
      "source": [
        "## Length Distribution"
      ],
      "metadata": {
        "id": "CLeRXT5ceL7_"
      }
    },
    {
      "cell_type": "code",
      "source": [
        "from pyspark.sql.functions import length\n",
        "\n",
        "# Add a new column for password length\n",
        "password_lengths = password_counts.withColumn(\"length\", length(\"value\"))\n",
        "\n",
        "# Group by password length and count\n",
        "length_distribution = password_lengths.groupBy(\"length\").count().orderBy(\"length\")\n",
        "\n",
        "# Show the distribution\n",
        "length_distribution.show()"
      ],
      "metadata": {
        "colab": {
          "base_uri": "https://localhost:8080/"
        },
        "id": "Bo92yOHDyaph",
        "outputId": "ee3a3a06-365f-4dd1-8590-0d9a94206acf"
      },
      "execution_count": 14,
      "outputs": [
        {
          "output_type": "stream",
          "name": "stdout",
          "text": [
            "+------+---------+\n",
            "|length|    count|\n",
            "+------+---------+\n",
            "|     1|      278|\n",
            "|     2|     8410|\n",
            "|     3|   118303|\n",
            "|     4|   590153|\n",
            "|     5|  2834300|\n",
            "|     6| 22276725|\n",
            "|     7| 38878206|\n",
            "|     8|124435146|\n",
            "|     9| 51686418|\n",
            "|    10| 63587053|\n",
            "|    11| 22078970|\n",
            "|    12| 16071520|\n",
            "|    13|  9344199|\n",
            "|    14|  6972754|\n",
            "|    15| 11316434|\n",
            "|    16|  4400637|\n",
            "|    17|  1399869|\n",
            "|    18|  1238388|\n",
            "|    19|   782862|\n",
            "|    20|   921617|\n",
            "+------+---------+\n",
            "only showing top 20 rows\n",
            "\n"
          ]
        }
      ]
    },
    {
      "cell_type": "markdown",
      "source": [
        "As we can see most passwords were 8 characters long followed by 10 characters"
      ],
      "metadata": {
        "id": "zpVPHC5reSj1"
      }
    },
    {
      "cell_type": "markdown",
      "source": [
        "## Password Classification"
      ],
      "metadata": {
        "id": "g7sMZJAQeuN3"
      }
    },
    {
      "cell_type": "code",
      "source": [
        "from pyspark.sql.functions import when, col\n",
        "\n",
        "# Classify passwords based on their composition\n",
        "password_class = password_lengths.withColumn(\"type\",\n",
        "    when(col(\"value\").rlike(\"^[0-9]+$\"), \"Numeric\")\n",
        "    .when(col(\"value\").rlike(\"^[A-Za-z]+$\"), \"Alphabetic\")\n",
        "    .when(col(\"value\").rlike(\"^[A-Za-z0-9]+$\"), \"Alphanumeric\")\n",
        "    .otherwise(\"Complex\"))\n",
        "\n",
        "# Group by type and count\n",
        "type_distribution = password_class.groupBy(\"type\").count().orderBy(\"count\", ascending=False)\n",
        "\n",
        "# Show the distribution\n",
        "type_distribution.show()"
      ],
      "metadata": {
        "colab": {
          "base_uri": "https://localhost:8080/"
        },
        "id": "j1TeeNb8yd3I",
        "outputId": "c05fd2e6-ade9-4052-fe31-5ac84cde46a6"
      },
      "execution_count": 15,
      "outputs": [
        {
          "output_type": "stream",
          "name": "stdout",
          "text": [
            "+------------+---------+\n",
            "|        type|    count|\n",
            "+------------+---------+\n",
            "|Alphanumeric|209751869|\n",
            "|  Alphabetic|102299695|\n",
            "|     Complex| 38251465|\n",
            "|     Numeric| 33850398|\n",
            "+------------+---------+\n",
            "\n"
          ]
        }
      ]
    },
    {
      "cell_type": "markdown",
      "source": [
        "## Pattern Filtering"
      ],
      "metadata": {
        "id": "bYZgCKHVeygT"
      }
    },
    {
      "cell_type": "code",
      "source": [
        "# Filter passwords for specific patterns\n",
        "pattern_123 = password_counts.filter(col(\"value\").contains(\"123\"))\n",
        "pattern_password = password_counts.filter(col(\"value\").contains(\"password\"))\n",
        "pattern_qwerty = password_counts.filter(col(\"value\").contains(\"qwerty\"))\n",
        "\n",
        "# Show counts of specific patterns\n",
        "print(f\"Number of passwords containing '123': {pattern_123.count()}\")\n",
        "print(f\"Number of passwords containing 'password': {pattern_password.count()}\")\n",
        "print(f\"Number of passwords containing 'qwerty': {pattern_qwerty.count()}\")"
      ],
      "metadata": {
        "colab": {
          "base_uri": "https://localhost:8080/"
        },
        "id": "R8nF60UIyfb0",
        "outputId": "26372cc9-6877-467f-c4e1-16acbb1e2a23"
      },
      "execution_count": 16,
      "outputs": [
        {
          "output_type": "stream",
          "name": "stdout",
          "text": [
            "Number of passwords containing '123': 7795718\n",
            "Number of passwords containing 'password': 56344\n",
            "Number of passwords containing 'qwerty': 207964\n"
          ]
        }
      ]
    },
    {
      "cell_type": "markdown",
      "source": [
        "## Entropy Analysis\n",
        "\n",
        "Entropy is a measure of unpredictability or randomness. In the context of passwords, higher entropy means that the password is more random and thus harder to crack. The formula for entropy is:\n",
        "\n",
        "H = −∑(P(x)×log\n",
        "2 P(x))\n",
        "\n",
        "Where \\( P(x) \\) is the probability of a character \\( x \\) appearing in the password"
      ],
      "metadata": {
        "id": "OMBW4o0G8im6"
      }
    },
    {
      "cell_type": "code",
      "source": [
        "from pyspark.sql.functions import udf\n",
        "from math import log2\n",
        "from collections import Counter\n",
        "from pyspark.sql.types import DoubleType\n",
        "\n",
        "def calculate_entropy(password):\n",
        "    if not password:\n",
        "        return 0.0\n",
        "    prob = [float(password.count(c)) / len(password) for c in dict.fromkeys(list(password))]\n",
        "    return -sum([p * log2(p) for p in prob])\n",
        "\n",
        "entropy_udf = udf(calculate_entropy, DoubleType())\n",
        "\n",
        "password_entropy = password_counts.withColumn(\"entropy\", entropy_udf(\"value\"))\n",
        "password_entropy.show()"
      ],
      "metadata": {
        "colab": {
          "base_uri": "https://localhost:8080/"
        },
        "id": "JJ8IQIdM8fFl",
        "outputId": "c7a5b4ae-549d-4cfb-df23-4689f664e25a"
      },
      "execution_count": 11,
      "outputs": [
        {
          "output_type": "stream",
          "name": "stdout",
          "text": [
            "+----------+-------+-----------------+\n",
            "|     value|  count|          entropy|\n",
            "+----------+-------+-----------------+\n",
            "|    123456|6690567|2.584962500721156|\n",
            "| 123456789|2286809|3.169925001442312|\n",
            "|    111111| 983775|             -0.0|\n",
            "|  password| 964657|             2.75|\n",
            "|    qwerty| 887545|2.584962500721156|\n",
            "|    abc123| 860278|2.584962500721156|\n",
            "|  12345678| 844370|              3.0|\n",
            "| password1| 757901| 2.94770277922009|\n",
            "|   1234567| 744492|2.807354922057604|\n",
            "|    123123| 679338|1.584962500721156|\n",
            "|1234567890| 673299|3.321928094887362|\n",
            "|    000000| 665562|             -0.0|\n",
            "|     12345| 599246|2.321928094887362|\n",
            "|  iloveyou| 443963|             2.75|\n",
            "|1q2w3e4r5t| 346500|3.321928094887362|\n",
            "|      1234| 340034|              2.0|\n",
            "|   123456a| 312049|2.807354922057604|\n",
            "|qwertyuiop| 302333|3.321928094887362|\n",
            "|    monkey| 290794|2.584962500721156|\n",
            "|    123321| 286281|1.584962500721156|\n",
            "+----------+-------+-----------------+\n",
            "only showing top 20 rows\n",
            "\n"
          ]
        }
      ]
    },
    {
      "cell_type": "markdown",
      "source": [
        "## Dictionary Word Analysis:\n",
        "This requires a list of common dictionary words. For simplicity, we'll consider a small list, but in a real-world scenario, you'd use a comprehensive dictionary."
      ],
      "metadata": {
        "id": "556X3m7u8oQB"
      }
    },
    {
      "cell_type": "code",
      "source": [
        "dictionary_words = [\"password\", \"admin\", \"welcome\", \"user\", \"letmein\"]\n",
        "\n",
        "# Filter passwords that match dictionary words\n",
        "dict_passwords = password_counts.filter(password_counts[\"value\"].isin(dictionary_words))\n",
        "dict_passwords.show()"
      ],
      "metadata": {
        "colab": {
          "base_uri": "https://localhost:8080/"
        },
        "id": "Z66MUMnW8lcl",
        "outputId": "aef1b174-4123-445b-9970-cf960de63600"
      },
      "execution_count": 18,
      "outputs": [
        {
          "output_type": "stream",
          "name": "stdout",
          "text": [
            "+--------+------+\n",
            "|   value| count|\n",
            "+--------+------+\n",
            "|password|964657|\n",
            "| welcome| 61807|\n",
            "| letmein| 54791|\n",
            "|    user| 50949|\n",
            "|   admin| 11820|\n",
            "+--------+------+\n",
            "\n"
          ]
        }
      ]
    },
    {
      "cell_type": "markdown",
      "source": [
        "## Levenshtein Distance Analysis:\n",
        "The Levenshtein distance measures the minimum number of single-character edits (insertions, deletions, or substitutions) required to change one word into another.\n",
        "\n",
        "Analyzing this for all pairs in a large dataset can be computationally intensive. Here, I havent run these due to timeout."
      ],
      "metadata": {
        "id": "DOTo6PM28pxc"
      }
    },
    {
      "cell_type": "code",
      "source": [
        "from pyspark.sql.functions import levenshtein\n",
        "\n",
        "# Sample a subset of the data for demonstration purposes\n",
        "sample_df = password_counts.sample(False, 0.001, 42)\n",
        "\n",
        "# Cartesian product to get all pairs\n",
        "cartesian_df = sample_df.alias(\"df1\").crossJoin(sample_df.alias(\"df2\"))\n",
        "\n",
        "# Calculate Levenshtein distance\n",
        "levenshtein_df = cartesian_df.select(\n",
        "    col(\"df1.value\").alias(\"password1\"),\n",
        "    col(\"df2.value\").alias(\"password2\"),\n",
        "    levenshtein(col(\"df1.value\"), col(\"df2.value\")).alias(\"distance\")\n",
        ")\n",
        "levenshtein_df.show()"
      ],
      "metadata": {
        "id": "6Cmcdm9R8sJK"
      },
      "execution_count": null,
      "outputs": []
    },
    {
      "cell_type": "markdown",
      "source": [
        "## N-gram Analysis:\n",
        "Identify common substrings (n-grams) in passwords.\n"
      ],
      "metadata": {
        "id": "Iqh7oQ-M8vLA"
      }
    },
    {
      "cell_type": "code",
      "source": [
        "from pyspark.ml.feature import NGram\n",
        "from pyspark.sql.functions import explode\n",
        "from pyspark.sql.functions import split\n",
        "\n",
        "# Split each password into individual characters to create an array\n",
        "password_array = password_counts.withColumn(\"characters\", split(password_counts[\"value\"], \"\"))\n",
        "\n",
        "# Now, apply NGram on this array column\n",
        "ngram = NGram(n=3, inputCol=\"characters\", outputCol=\"ngrams\")\n",
        "\n",
        "# Transform and explode to get individual n-grams\n",
        "ngram_df = ngram.transform(password_array)\n",
        "ngram_exploded = ngram_df.select(explode(ngram_df.ngrams).alias(\"ngram\"))\n",
        "ngram_counts = ngram_exploded.groupBy(\"ngram\").count().orderBy(\"count\", ascending=False)\n",
        "ngram_counts.show()\n"
      ],
      "metadata": {
        "id": "8C-vsso58wLS"
      },
      "execution_count": null,
      "outputs": []
    }
  ]
}